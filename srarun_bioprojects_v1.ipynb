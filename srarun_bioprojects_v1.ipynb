{
 "cells": [
  {
   "cell_type": "code",
   "execution_count": 21,
   "metadata": {},
   "outputs": [
    {
     "name": "stdout",
     "output_type": "stream",
     "text": [
      "Requirement already satisfied: psycopg2-binary in /home/ec2-user/workspace/.mwas/lib/python3.9/site-packages (2.9.9)\n",
      "Note: you may need to restart the kernel to use updated packages.\n",
      "Requirement already satisfied: pandas in /home/ec2-user/workspace/.mwas/lib/python3.9/site-packages (2.1.3)\n",
      "Requirement already satisfied: numpy<2,>=1.22.4 in /home/ec2-user/workspace/.mwas/lib/python3.9/site-packages (from pandas) (1.26.2)\n",
      "Requirement already satisfied: python-dateutil>=2.8.2 in /home/ec2-user/workspace/.mwas/lib/python3.9/site-packages (from pandas) (2.8.2)\n",
      "Requirement already satisfied: pytz>=2020.1 in /home/ec2-user/workspace/.mwas/lib/python3.9/site-packages (from pandas) (2023.3.post1)\n",
      "Requirement already satisfied: tzdata>=2022.1 in /home/ec2-user/workspace/.mwas/lib/python3.9/site-packages (from pandas) (2023.3)\n",
      "Requirement already satisfied: six>=1.5 in /home/ec2-user/workspace/.mwas/lib/python3.9/site-packages (from python-dateutil>=2.8.2->pandas) (1.16.0)\n",
      "Note: you may need to restart the kernel to use updated packages.\n",
      "Requirement already satisfied: requests in /home/ec2-user/workspace/.mwas/lib/python3.9/site-packages (2.31.0)\n",
      "Requirement already satisfied: charset-normalizer<4,>=2 in /home/ec2-user/workspace/.mwas/lib/python3.9/site-packages (from requests) (3.3.2)\n",
      "Requirement already satisfied: idna<4,>=2.5 in /home/ec2-user/workspace/.mwas/lib/python3.9/site-packages (from requests) (3.4)\n",
      "Requirement already satisfied: urllib3<3,>=1.21.1 in /home/ec2-user/workspace/.mwas/lib/python3.9/site-packages (from requests) (1.26.18)\n",
      "Requirement already satisfied: certifi>=2017.4.17 in /home/ec2-user/workspace/.mwas/lib/python3.9/site-packages (from requests) (2023.11.17)\n",
      "Note: you may need to restart the kernel to use updated packages.\n"
     ]
    }
   ],
   "source": [
    "%pip install psycopg2-binary\n",
    "%pip install pandas\n",
    "%pip install requests"
   ]
  },
  {
   "cell_type": "markdown",
   "metadata": {},
   "source": [
    "----\n",
    "# Generating BioProject csv metadata files\n",
    "- want to generate a csv file containing metadata for each BioProject\n",
    "- BioSample csv files of metadata located on s3\n",
    "    - Some BioSamples are missing from individual_parser.py due to parsing errors TODO: Find parsing errors\n",
    "- loop through all parsed BioSample csvs and create a dataframe of BioSample and BioProject\n",
    "    - resulting dataframe should be a superset of serratus BioProject and BioSamples\n",
    "    - additional BioSamples with data not in serratus \n",
    "\n",
    "*Update 25/12/23:*\n",
    "- fetch the mapping from the bioproject xml file\n",
    "    - ```<Package>``` tag contains a single BioProject\n",
    "    - ```<ArchiveID>``` contains the BioProject ID\n",
    "    - ```<LocusTagPrefix biosample_id=''>``` contains the BioSample IDs associated with the BioProject\n",
    "\n"
   ]
  },
  {
   "cell_type": "markdown",
   "metadata": {},
   "source": [
    "## BioProject to BioSample mapping\n",
    "- use the BioProject xml file to find all BioSamples with an associated BioProject\n",
    "- mapping extracted to dictionary and stored as csv file\n"
   ]
  },
  {
   "cell_type": "code",
   "execution_count": 22,
   "metadata": {},
   "outputs": [],
   "source": [
    "import xml.sax\n",
    "\n",
    "class BioProjectParser(xml.sax.ContentHandler):\n",
    "    '''\n",
    "    SAX parser to extract BioSample IDs from a BioProject XML file.\n",
    "    '''\n",
    "\n",
    "    def __init__(self, project_dict):\n",
    "        self.biosample_ids = []\n",
    "        self.bioproject_id= \"\"\n",
    "        self.project_dict = project_dict\n",
    "\n",
    "    def startElement(self, name, attrs):\n",
    "        if name == \"ArchiveID\":\n",
    "            self.bioproject_id = attrs[\"accession\"]\n",
    "        elif name == \"LocusTagPrefix\":\n",
    "            if \"biosample_id\" in attrs:\n",
    "                self.biosample_ids.append(attrs[\"biosample_id\"])\n",
    "\n",
    "    def endElement(self, name):\n",
    "        if name == \"Package\":\n",
    "            self.project_dict[self.bioproject_id] = self.biosample_ids\n",
    "            self.bioproject_id = \"\"\n",
    "            self.biosample_ids = []\n",
    "        "
   ]
  },
  {
   "cell_type": "code",
   "execution_count": 23,
   "metadata": {},
   "outputs": [],
   "source": [
    "project_dict = {}\n",
    "parser = xml.sax.make_parser()\n",
    "parser.setContentHandler(BioProjectParser(project_dict))\n",
    "parser.parse(\"/home/ec2-user/workspace/data/bioproject.xml\")\n"
   ]
  },
  {
   "cell_type": "code",
   "execution_count": 24,
   "metadata": {},
   "outputs": [],
   "source": [
    "# unpack the dictionary into separate rows and write to csv\n",
    "import csv\n",
    "with open(\"/home/ec2-user/workspace/data/bioproject.csv\", \"w\") as f:\n",
    "    writer = csv.writer(f)\n",
    "    writer.writerow([\"bioproject_id\", \"biosample_id\"])\n",
    "    for bioproject_id, biosample_ids in project_dict.items():\n",
    "        for biosample_id in biosample_ids:\n",
    "            writer.writerow([bioproject_id, biosample_id])"
   ]
  },
  {
   "cell_type": "code",
   "execution_count": 7,
   "metadata": {},
   "outputs": [
    {
     "data": {
      "text/html": [
       "<div>\n",
       "<style scoped>\n",
       "    .dataframe tbody tr th:only-of-type {\n",
       "        vertical-align: middle;\n",
       "    }\n",
       "\n",
       "    .dataframe tbody tr th {\n",
       "        vertical-align: top;\n",
       "    }\n",
       "\n",
       "    .dataframe thead th {\n",
       "        text-align: right;\n",
       "    }\n",
       "</style>\n",
       "<table border=\"1\" class=\"dataframe\">\n",
       "  <thead>\n",
       "    <tr style=\"text-align: right;\">\n",
       "      <th></th>\n",
       "      <th>bioproject_id</th>\n",
       "      <th>biosample_id</th>\n",
       "    </tr>\n",
       "  </thead>\n",
       "  <tbody>\n",
       "    <tr>\n",
       "      <th>0</th>\n",
       "      <td>PRJNA3</td>\n",
       "      <td>SAMN02603966</td>\n",
       "    </tr>\n",
       "    <tr>\n",
       "      <th>1</th>\n",
       "      <td>PRJNA3</td>\n",
       "      <td>SAMN11044051</td>\n",
       "    </tr>\n",
       "    <tr>\n",
       "      <th>2</th>\n",
       "      <td>PRJNA3</td>\n",
       "      <td>SAMN11044052</td>\n",
       "    </tr>\n",
       "    <tr>\n",
       "      <th>3</th>\n",
       "      <td>PRJNA3</td>\n",
       "      <td>SAMN11044053</td>\n",
       "    </tr>\n",
       "    <tr>\n",
       "      <th>4</th>\n",
       "      <td>PRJNA3</td>\n",
       "      <td>SAMN11044054</td>\n",
       "    </tr>\n",
       "    <tr>\n",
       "      <th>...</th>\n",
       "      <td>...</td>\n",
       "      <td>...</td>\n",
       "    </tr>\n",
       "    <tr>\n",
       "      <th>2406643</th>\n",
       "      <td>PRJNA1056452</td>\n",
       "      <td>SAMN39098763</td>\n",
       "    </tr>\n",
       "    <tr>\n",
       "      <th>2406644</th>\n",
       "      <td>PRJNA1056462</td>\n",
       "      <td>SAMN39099393</td>\n",
       "    </tr>\n",
       "    <tr>\n",
       "      <th>2406645</th>\n",
       "      <td>PRJNA1056479</td>\n",
       "      <td>SAMN39100772</td>\n",
       "    </tr>\n",
       "    <tr>\n",
       "      <th>2406646</th>\n",
       "      <td>PRJNA1056518</td>\n",
       "      <td>SAMN39101789</td>\n",
       "    </tr>\n",
       "    <tr>\n",
       "      <th>2406647</th>\n",
       "      <td>PRJNA1056528</td>\n",
       "      <td>SAMN39103103</td>\n",
       "    </tr>\n",
       "  </tbody>\n",
       "</table>\n",
       "<p>2406648 rows × 2 columns</p>\n",
       "</div>"
      ],
      "text/plain": [
       "        bioproject_id  biosample_id\n",
       "0              PRJNA3  SAMN02603966\n",
       "1              PRJNA3  SAMN11044051\n",
       "2              PRJNA3  SAMN11044052\n",
       "3              PRJNA3  SAMN11044053\n",
       "4              PRJNA3  SAMN11044054\n",
       "...               ...           ...\n",
       "2406643  PRJNA1056452  SAMN39098763\n",
       "2406644  PRJNA1056462  SAMN39099393\n",
       "2406645  PRJNA1056479  SAMN39100772\n",
       "2406646  PRJNA1056518  SAMN39101789\n",
       "2406647  PRJNA1056528  SAMN39103103\n",
       "\n",
       "[2406648 rows x 2 columns]"
      ]
     },
     "execution_count": 7,
     "metadata": {},
     "output_type": "execute_result"
    }
   ],
   "source": [
    "# read the csv into a pandas dataframe\n",
    "import pandas as pd\n",
    "df = pd.read_csv(\"/home/ec2-user/workspace/data/bioproject.csv\")\n",
    "df"
   ]
  },
  {
   "cell_type": "code",
   "execution_count": 2,
   "metadata": {},
   "outputs": [
    {
     "name": "stdout",
     "output_type": "stream",
     "text": [
      "Number of biosamples: 2303205\n",
      "Number of bioprojects: 204697\n"
     ]
    }
   ],
   "source": [
    "# print the number of biosamples and bioprojects\n",
    "print(\"Number of biosamples: {}\".format(len(df[\"biosample_id\"].unique())))\n",
    "print(\"Number of bioprojects: {}\".format(len(df[\"bioproject_id\"].unique())))"
   ]
  },
  {
   "cell_type": "code",
   "execution_count": 21,
   "metadata": {},
   "outputs": [
    {
     "data": {
      "text/html": [
       "<div>\n",
       "<style scoped>\n",
       "    .dataframe tbody tr th:only-of-type {\n",
       "        vertical-align: middle;\n",
       "    }\n",
       "\n",
       "    .dataframe tbody tr th {\n",
       "        vertical-align: top;\n",
       "    }\n",
       "\n",
       "    .dataframe thead th {\n",
       "        text-align: right;\n",
       "    }\n",
       "</style>\n",
       "<table border=\"1\" class=\"dataframe\">\n",
       "  <thead>\n",
       "    <tr style=\"text-align: right;\">\n",
       "      <th></th>\n",
       "      <th>bioproject_id</th>\n",
       "      <th>biosample_id</th>\n",
       "    </tr>\n",
       "  </thead>\n",
       "  <tbody>\n",
       "    <tr>\n",
       "      <th>612578</th>\n",
       "      <td>PRJNA248792</td>\n",
       "      <td>SAMN04574080</td>\n",
       "    </tr>\n",
       "  </tbody>\n",
       "</table>\n",
       "</div>"
      ],
      "text/plain": [
       "       bioproject_id  biosample_id\n",
       "612578   PRJNA248792  SAMN04574080"
      ]
     },
     "execution_count": 21,
     "metadata": {},
     "output_type": "execute_result"
    }
   ],
   "source": [
    "df.iloc[[612578]]\n"
   ]
  },
  {
   "cell_type": "code",
   "execution_count": 11,
   "metadata": {},
   "outputs": [
    {
     "data": {
      "text/html": [
       "<div>\n",
       "<style scoped>\n",
       "    .dataframe tbody tr th:only-of-type {\n",
       "        vertical-align: middle;\n",
       "    }\n",
       "\n",
       "    .dataframe tbody tr th {\n",
       "        vertical-align: top;\n",
       "    }\n",
       "\n",
       "    .dataframe thead th {\n",
       "        text-align: right;\n",
       "    }\n",
       "</style>\n",
       "<table border=\"1\" class=\"dataframe\">\n",
       "  <thead>\n",
       "    <tr style=\"text-align: right;\">\n",
       "      <th></th>\n",
       "      <th>bioproject_id</th>\n",
       "      <th>biosample_id</th>\n",
       "    </tr>\n",
       "  </thead>\n",
       "  <tbody>\n",
       "    <tr>\n",
       "      <th>605821</th>\n",
       "      <td>PRJNA248335</td>\n",
       "      <td>SAMN02797828</td>\n",
       "    </tr>\n",
       "    <tr>\n",
       "      <th>605822</th>\n",
       "      <td>PRJNA248335</td>\n",
       "      <td>SAMN02797826</td>\n",
       "    </tr>\n",
       "  </tbody>\n",
       "</table>\n",
       "</div>"
      ],
      "text/plain": [
       "       bioproject_id  biosample_id\n",
       "605821   PRJNA248335  SAMN02797828\n",
       "605822   PRJNA248335  SAMN02797826"
      ]
     },
     "execution_count": 11,
     "metadata": {},
     "output_type": "execute_result"
    }
   ],
   "source": [
    "df[df[\"bioproject_id\"] == 'PRJNA248335']\n"
   ]
  },
  {
   "cell_type": "markdown",
   "metadata": {},
   "source": [
    "## Merging metdata csv files from the mapping\n",
    "- for any BioProject that has all BioSample metadata csvs generated, merge into a single csv file and store on s3\n",
    "- if any BioSample metadata csvs are missing, log an error and store the ids in a separate csv file\n"
   ]
  },
  {
   "cell_type": "code",
   "execution_count": 14,
   "metadata": {},
   "outputs": [],
   "source": [
    "import pandas as pd \n",
    "import boto3\n",
    "import logging\n",
    "\n",
    "# set up logging to a file bioproject.log\n",
    "logger = logging.getLogger()\n",
    "if logger.hasHandlers():\n",
    "    logger.handlers.clear()\n",
    "fh = logging.FileHandler(\"/home/ec2-user/workspace/data/bioproject.log\")\n",
    "formatter = logging.Formatter(\"%(levelname)s - %(asctime)s - %(message)s\")\n",
    "fh.setFormatter(formatter)\n",
    "logger.addHandler(fh)\n",
    "logger.setLevel(logging.INFO)\n",
    "\n",
    "# read the csv into a dataframe\n",
    "df = pd.read_csv(\"/home/ec2-user/workspace/data/bioproject.csv\")\n",
    "bioproject_ids = df[\"bioproject_id\"].unique()\n",
    "\n",
    "# connect to s3\n",
    "s3 = boto3.resource(\"s3\")\n",
    "bucket = s3.Bucket('serratus-biosamples')\n",
    "logger.info(\"Connected to s3\")\n",
    "\n",
    "# track the number of bioprojects that are missing > 1 biosample csv file\n",
    "err_count = 0 \n",
    "\n",
    "logger.info(\"Iterating through bioprojects\\n\")\n",
    "# iterate through the bioprojects\n",
    "for bioproject_id in bioproject_ids:\n",
    "    # get all the biosample ids for this bioproject\n",
    "    biosample_ids = df[df[\"bioproject_id\"] == bioproject_id][\"biosample_id\"].tolist()\n",
    "\n",
    "    # dictionary to store data for each biosmaple in the bioproject\n",
    "    bioproject_dict = {}\n",
    "\n",
    "    # set an error flag\n",
    "    err = False\n",
    "\n",
    "    # if all the biosample csv files exist, write to a new file titled bioproject_id.csv\n",
    "    # ensure all the columns are the same if the files exist\n",
    "    for biosample_id in biosample_ids:\n",
    "        # get the biosample csv file from s3\n",
    "        key = f\"biosamples_csv/{biosample_id}.csv\"\n",
    "        try:\n",
    "            obj = bucket.Object(key).get()[\"Body\"].read().decode(\"utf-8\").split(\"\\n\")\n",
    "        except:\n",
    "            logger.error(f\"{biosample_id}.csv does not exist\")\n",
    "            err_count += 1\n",
    "            err = True\n",
    "            break\n",
    "\n",
    "        # get the col string and data string\n",
    "        col_list = obj[0].split(\",\")\n",
    "        data_list = obj[1].split(\",\")\n",
    "        # convert the lists to a dictionary\n",
    "        data_dict = dict(zip(col_list, data_list))\n",
    "        # add the data_dict to the bioproject_dict\n",
    "        bioproject_dict[biosample_id] = data_dict\n",
    "    \n",
    "    # if there was an error, continue to the next bioproject\n",
    "    if err:\n",
    "        err = False\n",
    "        continue\n",
    "\n",
    "    # bioproject dict contains biosample data for all biosamples in the bioproject\n",
    "    # get the headers for all biosamples - slow but required for ordering\n",
    "    headers = []\n",
    "    for _, data_dict in bioproject_dict.items():\n",
    "        for header in data_dict.keys():\n",
    "            if header not in headers:\n",
    "                headers.append(header)\n",
    "\n",
    "    # log if the headers are not the same for all biosamples\n",
    "    if len(headers) != len(list(bioproject_dict.values())[0].keys()):\n",
    "        logger.warning(f\"Columns are not all the same for {bioproject_id}\")\n",
    "\n",
    "    # create a csv string for the bioproject\n",
    "    csv_str = \"\"\n",
    "    # write the headers\n",
    "    csv_str += \",\".join(headers) + \"\\n\"\n",
    "    # write the data\n",
    "    for _, data_dict in bioproject_dict.items():\n",
    "        csv_str += \",\".join([data_dict.get(header, \"\") for header in headers]) + \"\\n\"\n",
    "    \n",
    "    # write the csv string to s3\n",
    "    try:\n",
    "        key = f\"bioprojects_csv/{bioproject_id}.csv\"\n",
    "        s3.Object(\"serratus-biosamples\", key).put(Body=csv_str)\n",
    "        logger.info(f\"Successfully wrote {key}\")\n",
    "    except Exception as e:\n",
    "        logger.error(f\"Error writing {bioproject_id}.csv: {str(e)}\")\n",
    "\n",
    "\n",
    "logger.info(f\"Number of bioprojects missing > 1 biosample csv file: {err_count}\")\n",
    "logger.info(\"Done\")\n",
    "\n",
    "# started running at 11:02 AM on 31 Dec 2023 GMT +1\n"
   ]
  },
  {
   "cell_type": "markdown",
   "metadata": {},
   "source": [
    "----\n",
    "## Parsing additional BioSample metadata\n",
    "- biosample csv files that don't exist were highlighted in the log file\n",
    "    - ONLY THE FIRST MISSING BIOSAMPLE PER BIOPROJECT IS LOGGED -> still will have missing biosamples\n",
    "- missing biosamples can be extracted from the log file and parsed again using code from individual_parser.py\n",
    "    - missing biosamples logged with ERROR - timestamp - biosample_id.csv does not exist\n",
    "    "
   ]
  },
  {
   "cell_type": "markdown",
   "metadata": {},
   "source": [
    "- Find missing biosamples from log file and add to missing_biosamples.txt\n",
    "\n",
    "```grep \"^ERROR\" bioproject.log | sed 's/^ERROR.* \\([^ ]*\\).csv.*/\\1/' > missing_biosamples.txt```"
   ]
  },
  {
   "cell_type": "code",
   "execution_count": null,
   "metadata": {},
   "outputs": [],
   "source": [
    "import boto3\n",
    "import logging\n",
    "import bs2csv\n",
    "import xml.sax\n",
    "import xmltodict\n",
    "import re\n",
    "\n",
    "# set up logging to a file bioproject.log\n",
    "logger = logging.getLogger()\n",
    "if logger.hasHandlers():\n",
    "    logger.handlers.clear()\n",
    "fh = logging.FileHandler(\"/home/ec2-user/workspace/mwas/missing_biosamples.log\")\n",
    "formatter = logging.Formatter(\"%(levelname)s - %(asctime)s - %(message)s\")\n",
    "fh.setFormatter(formatter)\n",
    "logger.addHandler(fh)\n",
    "logger.setLevel(logging.INFO)\n",
    "\n",
    "with open(\"/home/ec2-user/workspace/data/missing_biosamples.txt\", \"r\") as f:\n",
    "    s3 = boto3.resource('s3')\n",
    "    bucket  = s3.Bucket('serratus-biosamples')\n",
    "    for line in f:\n",
    "        line = line.strip()\n",
    "        key = f'biosamples_split/{line}.xml'\n",
    "\n",
    "        try:\n",
    "            obj = bucket.Object(key).get()['Body'].read().decode('utf-8')\n",
    "            # get the accession from the xml string\n",
    "            accession = re.search(r'^<\\?xml version=\"1.0\" encoding=\"UTF-8\"\\?>\\n<BioSample.*accession=\"(.+)\"', obj).group(1)\n",
    "        except:\n",
    "            logger.warning(f'{line}.xml does not exist')\n",
    "            continue\n",
    "            \n",
    "        content_dict = {}\n",
    "        handler = bs2csv.BioSamplesParser(content_dict)\n",
    "        try:\n",
    "            xml.sax.parseString(obj, handler)\n",
    "        except:\n",
    "            logger.error(f'Error parsing {line}.xml')\n",
    "            continue\n",
    "\n",
    "        try:\n",
    "            csv_str = \"\"   \n",
    "            csv_str = 'biosample_id,' + ','.join(content_dict.keys()) + '\\n'\n",
    "            csv_str += accession + ',' + ','.join(content_dict.values()) + '\\n'\n",
    "        except Exception as e:\n",
    "            logger.error(f'Error creating csv string for {accession}: {e}')\n",
    "            continue\n",
    "\n",
    "\n",
    "        try:\n",
    "            bucket.put_object(Key='biosamples_csv/' + accession + '.csv', Body=csv_str)\n",
    "            logger.info(f'Successfully wrote {accession}.csv')\n",
    "        except:\n",
    "            logger.error(f'Error writing {accession}.csv')\n",
    "            continue\n",
    "\n",
    "# started running at 12;20 PM on 1 Jan 2024 GMT +1"
   ]
  },
  {
   "cell_type": "markdown",
   "metadata": {},
   "source": [
    "- new xml files are not included in the folder on s3 and are missing \n",
    "- errors (22) come from issues in creating the csv string to write to file\n",
    "    - extract error ids and write to s3 with updated csv string\n",
    "    "
   ]
  },
  {
   "cell_type": "markdown",
   "metadata": {},
   "source": [
    "----\n",
    "# Generating missing BioProject csv metadata files\n",
    "- bioproject xml does not contain biosample information for many bioprojects\n",
    "- use the generated biosample csv files to find the mapping between bioproject and biosample"
   ]
  },
  {
   "cell_type": "code",
   "execution_count": null,
   "metadata": {
    "vscode": {
     "languageId": "bat"
    }
   },
   "outputs": [],
   "source": [
    "aws s3 ls serratus-biosamples/biosamples_split/ > biosample_s3_xml\n",
    "sed -i '1d' biosample_s3_xml \n",
    "sed -E -i 's/.* (\\S+\\.xml)/\\1/' biosample_s3_xml"
   ]
  }
 ],
 "metadata": {
  "kernelspec": {
   "display_name": ".mwas",
   "language": "python",
   "name": "python3"
  },
  "language_info": {
   "codemirror_mode": {
    "name": "ipython",
    "version": 3
   },
   "file_extension": ".py",
   "mimetype": "text/x-python",
   "name": "python",
   "nbconvert_exporter": "python",
   "pygments_lexer": "ipython3",
   "version": "3.9.16"
  }
 },
 "nbformat": 4,
 "nbformat_minor": 2
}
